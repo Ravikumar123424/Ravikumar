{
 "cells": [
  {
   "cell_type": "markdown",
   "id": "f009706e",
   "metadata": {},
   "source": [
    "# 🧠 AI Research Agent Demo Notebook\n",
    "Powered by IBM Watsonx.ai (Granite models) + IBM Cloud Lite"
   ]
  },
  {
   "cell_type": "markdown",
   "id": "bc0eaa8a",
   "metadata": {},
   "source": [
    "## 🔐 Setup: API Keys (use environment variables)\n",
    "Avoid hardcoding credentials! Use .env or a secure vault in production."
   ]
  },
  {
   "cell_type": "code",
   "execution_count": null,
   "id": "edebd1db",
   "metadata": {},
   "outputs": [],
   "source": [
    "import os\n",
    "from dotenv import load_dotenv\n",
    "load_dotenv()\n",
    "\n",
    "# Required for Watsonx.ai\n",
    "API_KEY = os.getenv(\"IBM_CLOUD_API_KEY\")\n",
    "PROJECT_ID = os.getenv(\"WATSONX_PROJECT_ID\")\n",
    "DEPLOYMENT_URL = os.getenv(\"WATSONX_DEPLOYMENT_URL\")\n",
    "\n",
    "assert API_KEY and PROJECT_ID and DEPLOYMENT_URL, \"Missing environment config!\""
   ]
  },
  {
   "cell_type": "markdown",
   "id": "a3318575",
   "metadata": {},
   "source": [
    "## 🧠 Initialize Watsonx.ai API"
   ]
  },
  {
   "cell_type": "code",
   "execution_count": null,
   "id": "72a4c8d8",
   "metadata": {},
   "outputs": [],
   "source": [
    "import requests\n",
    "\n",
    "token_endpoint = \"https://iam.cloud.ibm.com/identity/token\"\n",
    "headers = {\"Content-Type\": \"application/x-www-form-urlencoded\"}\n",
    "data = {\n",
    "    \"apikey\": API_KEY,\n",
    "    \"grant_type\": \"urn:ibm:params:oauth:grant-type:apikey\"\n",
    "}\n",
    "\n",
    "response = requests.post(token_endpoint, headers=headers, data=data)\n",
    "access_token = response.json()[\"access_token\"]\n",
    "print(\"✅ Access token retrieved\")"
   ]
  },
  {
   "cell_type": "markdown",
   "id": "fe1d3963",
   "metadata": {},
   "source": [
    "## 📄 Upload and Analyze a Document (Simulated)\n",
    "In a real app this would be triggered by a file upload."
   ]
  },
  {
   "cell_type": "code",
   "execution_count": null,
   "id": "da66fe3a",
   "metadata": {},
   "outputs": [],
   "source": [
    "# Simulated academic passage\n",
    "document_text = \"\"\"\n",
    "This paper presents a new approach for deep reinforcement learning in robotic manipulation.\n",
    "We propose Adaptive Gradient Policy Networks (AGPN), which leverage entropy-aware updates\n",
    "and transfer learning from simulated tasks. Results indicate a 20% improvement over existing baselines.\n",
    "\"\"\""
   ]
  },
  {
   "cell_type": "markdown",
   "id": "11a589d5",
   "metadata": {},
   "source": [
    "## ✨ Use IBM Granite Model to Summarize"
   ]
  },
  {
   "cell_type": "code",
   "execution_count": null,
   "id": "4dd54360",
   "metadata": {},
   "outputs": [],
   "source": [
    "watsonx_api_url = f\"{DEPLOYMENT_URL}/v2/generation/text\"\n",
    "payload = {\n",
    "    \"input\": f\"Summarize the following research paper:\\n{document_text}\",\n",
    "    \"model_id\": \"granite-13b-instruct-v1\",\n",
    "    \"parameters\": {\"decoding_method\": \"greedy\", \"max_new_tokens\": 150}\n",
    "}\n",
    "\n",
    "summary_response = requests.post(\n",
    "    watsonx_api_url,\n",
    "    headers={\n",
    "        \"Authorization\": f\"Bearer {access_token}\",\n",
    "        \"Content-Type\": \"application/json\",\n",
    "        \"X-Project-Id\": PROJECT_ID,\n",
    "    },\n",
    "    json=payload\n",
    ")\n",
    "\n",
    "summary = summary_response.json()[\"results\"][0][\"generated_text\"]\n",
    "print(\"📌 Summary:\")\n",
    "print(summary)"
   ]
  },
  {
   "cell_type": "markdown",
   "id": "d318dcf1",
   "metadata": {},
   "source": [
    "## 💡 Hypothesis Generation (Optional Extension)"
   ]
  },
  {
   "cell_type": "code",
   "execution_count": null,
   "id": "ea2d9946",
   "metadata": {},
   "outputs": [],
   "source": [
    "prompt = \"Based on robotics trends, suggest a novel hypothesis for reinforcement learning.\"\n",
    "payload[\"input\"] = prompt\n",
    "\n",
    "hypo_response = requests.post(\n",
    "    watsonx_api_url,\n",
    "    headers={\n",
    "        \"Authorization\": f\"Bearer {access_token}\",\n",
    "        \"Content-Type\": \"application/json\",\n",
    "        \"X-Project-Id\": PROJECT_ID,\n",
    "    },\n",
    "    json=payload\n",
    ")\n",
    "\n",
    "hypothesis = hypo_response.json()[\"results\"][0][\"generated_text\"]\n",
    "print(\"💭 Hypothesis:\")\n",
    "print(hypothesis)"
   ]
  }
 ],
 "metadata": {
  "kernelspec": {
   "display_name": "Python 3 (ipykernel)",
   "language": "python",
   "name": "python3"
  },
  "language_info": {
   "name": "python",
   "version": "3.9"
  }
 },
 "nbformat": 4,
 "nbformat_minor": 5
}
